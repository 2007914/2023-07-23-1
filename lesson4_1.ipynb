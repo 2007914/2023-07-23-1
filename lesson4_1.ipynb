{
 "cells": [
  {
   "cell_type": "code",
   "execution_count": 1,
   "metadata": {},
   "outputs": [
    {
     "data": {
      "text/plain": [
       "56.55"
      ]
     },
     "execution_count": 1,
     "metadata": {},
     "output_type": "execute_result"
    }
   ],
   "source": [
    "round(56.5454365,ndigits=2)"
   ]
  },
  {
   "cell_type": "code",
   "execution_count": 1,
   "metadata": {},
   "outputs": [],
   "source": [
    "import math\n",
    "side1=float(input('請輸入對邊'))\n",
    "side2=eval(input('請輸入斜邊'))\n",
    "degree = round(math.degrees(math.asin(side1 / side2)),ndigits=2)\n",
    "print(f\"對邊:{side1},斜邊:{side2},角度:{degree}\")"
   ]
  },
  {
   "cell_type": "code",
   "execution_count": 4,
   "metadata": {},
   "outputs": [],
   "source": [
    "import numpy\n",
    "import sympy"
   ]
  },
  {
   "cell_type": "code",
   "execution_count": 12,
   "metadata": {},
   "outputs": [
    {
     "data": {
      "text/plain": [
       "True"
      ]
     },
     "execution_count": 12,
     "metadata": {},
     "output_type": "execute_result"
    }
   ],
   "source": [
    "\n",
    "5<=5"
   ]
  },
  {
   "cell_type": "code",
   "execution_count": 49,
   "metadata": {},
   "outputs": [
    {
     "name": "stdout",
     "output_type": "stream",
     "text": [
      "你輸入格式有誤\n"
     ]
    }
   ],
   "source": [
    "try:\n",
    "    a=float(input('你的長度'))\n",
    "    if a<=30:\n",
    "             print(f'你的雞雞好短')\n",
    "\n",
    "    else:\n",
    "         print('你謊報')   \n",
    "except:\n",
    "     print(f'你輸入格式有誤')\n",
    "\n"
   ]
  },
  {
   "cell_type": "code",
   "execution_count": 40,
   "metadata": {},
   "outputs": [
    {
     "name": "stdout",
     "output_type": "stream",
     "text": [
      "輸入超過300分,請重新執行\n"
     ]
    }
   ],
   "source": [
    "#學生總分為300\n",
    "#檢查輸入超過300,印出錯誤訊息\n",
    "#有些學生可以加分5%\n",
    "##如果加分超過300,就以300分為準\n",
    "try:\n",
    "    score = int(input(\"請輸入學生分數(最高300分):\"))\n",
    "    if score <= 300:\n",
    "        is_add = input(\"學生是否符合加分條件?(y,n)\")\n",
    "\n",
    "        if(is_add == 'y'):\n",
    "            score *= 1.05\n",
    "            if score > 300:\n",
    "                score = 300\n",
    "\n",
    "        print(f\"學生總分為{round(score)}\")\n",
    "    else:\n",
    "        print(\"輸入超過300分,請重新執行\")\n",
    "except:\n",
    "    print(\"輸入格式有錯誤\")"
   ]
  },
  {
   "cell_type": "code",
   "execution_count": 55,
   "metadata": {},
   "outputs": [
    {
     "name": "stdout",
     "output_type": "stream",
     "text": [
      "讚\n"
     ]
    }
   ],
   "source": [
    "try:\n",
    "    score = int(input(\"請輸入國文分數:\"))\n",
    "    if 60<score<80 :\n",
    "        print(\"優\")\n",
    "    if 80<score<100:\n",
    "        print('讚')\n",
    "    else:\n",
    "        print('爛')    \n",
    "except:\n",
    "    print(\"輸入格式有錯誤\")"
   ]
  },
  {
   "cell_type": "code",
   "execution_count": null,
   "metadata": {},
   "outputs": [],
   "source": [
    "try:\n",
    "    score = int(input(\"請輸入國文分數:\"))\n",
    "    if score < 60:\n",
    "        print(\"不及格\")\n",
    "    else:\n",
    "        if score < 80:\n",
    "            print(\"普通\")\n",
    "        else:\n",
    "            print(\"優\")\n",
    "except:\n",
    "    print(\"輸入格式有錯誤\")"
   ]
  }
 ],
 "metadata": {
  "kernelspec": {
   "display_name": "Python 3",
   "language": "python",
   "name": "python3"
  },
  "language_info": {
   "codemirror_mode": {
    "name": "ipython",
    "version": 3
   },
   "file_extension": ".py",
   "mimetype": "text/x-python",
   "name": "python",
   "nbconvert_exporter": "python",
   "pygments_lexer": "ipython3",
   "version": "3.10.12"
  },
  "orig_nbformat": 4
 },
 "nbformat": 4,
 "nbformat_minor": 2
}
