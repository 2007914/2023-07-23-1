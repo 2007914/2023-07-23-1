{
 "cells": [
  {
   "cell_type": "code",
   "execution_count": 5,
   "metadata": {},
   "outputs": [
    {
     "name": "stdout",
     "output_type": "stream",
     "text": [
      "1.csv存檔完成\n"
     ]
    }
   ],
   "source": [
    "import os\n",
    "import student\n",
    "\n",
    "file_name = input(\"請輸入要存檔的檔案名稱:\")\n",
    "root = os.path.abspath(path=\"./\")\n",
    "filePath = os.path.join(root,'csv_data',f'{file_name}.csv')\n",
    "\n",
    "students = student.score(students_num=30)\n",
    "students\n",
    "\n",
    "import csv\n",
    "with open(filePath,mode='w',encoding='utf-8',newline='') as file:\n",
    "    csv_writer = csv.writer(file)\n",
    "    csv_writer.writerow([ \"國文\", \"英文\", \"數學\", \"社會\", \"地理\"])\n",
    "    csv_writer.writerows(students)\n",
    "\n",
    "print(f\"{file_name}.csv存檔完成\")"
   ]
  },
  {
   "cell_type": "code",
   "execution_count": 7,
   "metadata": {},
   "outputs": [
    {
     "data": {
      "text/plain": [
       "[[86, 82, 55, 57, 93],\n",
       " [52, 66, 58, 74, 96],\n",
       " [89, 67, 92, 60, 82],\n",
       " [57, 100, 96, 90, 58],\n",
       " [60, 68, 60, 83, 95],\n",
       " [72, 88, 92, 64, 52],\n",
       " [59, 77, 94, 92, 100],\n",
       " [97, 81, 85, 85, 69],\n",
       " [72, 73, 88, 99, 50],\n",
       " [81, 74, 75, 76, 99]]"
      ]
     },
     "metadata": {},
     "output_type": "display_data"
    },
    {
     "name": "stdout",
     "output_type": "stream",
     "text": [
      "2.csv存檔完成\n"
     ]
    }
   ],
   "source": [
    "import csv\n",
    "nums = int(input(\"請輸入學生數:\"))\n",
    "students = student.score(students_num=nums)\n",
    "display(students)\n",
    "\n",
    "fileName = input(\"請問存檔名稱:(名稱,n)\")\n",
    "if fileName != 'n':\n",
    "    root = os.path.abspath(path=\"./\")\n",
    "    filePath = os.path.join(root,'csv_data',f'{fileName}.csv')\n",
    "    with open(filePath,mode='w',encoding='utf-8',newline='') as file:\n",
    "        csv_writer = csv.writer(file)\n",
    "        csv_writer.writerow(['姓名', \"國文\", \"英文\", \"數學\", \"社會\", \"地理\"])\n",
    "        csv_writer.writerows(students)\n",
    "    print(f\"{fileName}.csv存檔完成\")\n",
    "else:\n",
    "    print(\"應用程式結束\")"
   ]
  },
  {
   "cell_type": "code",
   "execution_count": null,
   "metadata": {},
   "outputs": [],
   "source": []
  },
  {
   "cell_type": "code",
   "execution_count": null,
   "metadata": {},
   "outputs": [],
   "source": []
  },
  {
   "cell_type": "code",
   "execution_count": null,
   "metadata": {},
   "outputs": [],
   "source": []
  }
 ],
 "metadata": {
  "kernelspec": {
   "display_name": "Python 3",
   "language": "python",
   "name": "python3"
  },
  "language_info": {
   "codemirror_mode": {
    "name": "ipython",
    "version": 3
   },
   "file_extension": ".py",
   "mimetype": "text/x-python",
   "name": "python",
   "nbconvert_exporter": "python",
   "pygments_lexer": "ipython3",
   "version": "3.10.12"
  },
  "orig_nbformat": 4
 },
 "nbformat": 4,
 "nbformat_minor": 2
}
