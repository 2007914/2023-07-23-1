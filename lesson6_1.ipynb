{
 "cells": [
  {
   "cell_type": "code",
   "execution_count": 4,
   "metadata": {},
   "outputs": [
    {
     "name": "stdout",
     "output_type": "stream",
     "text": [
      "你得身材:過輕\n",
      "BMI值為17.96\n"
     ]
    }
   ],
   "source": [
    "weight=eval(input('你的體重(公斤)'))\n",
    "tall=eval(input('你的身高(公分)'))\n",
    "BMI =weight/(tall/100)**2\n",
    "if BMI<18.5:\n",
    "    print('你的身材:過輕')\n",
    "elif   BMI <24:\n",
    "        print('你的身材:正常')\n",
    "elif    BMI <27:\n",
    "        print('你的身材:過重')\n",
    "elif    BMI<30:\n",
    "        print('你的身材:輕度肥胖')\n",
    "elif    BMI<35:\n",
    "        print('你的身材:中度肥胖')\n",
    "else:\n",
    "       print('你的身材:重度肥胖')\n",
    "print(f'BMI值為{BMI:.2f}')\n",
    "      "
   ]
  }
 ],
 "metadata": {
  "kernelspec": {
   "display_name": "Python 3",
   "language": "python",
   "name": "python3"
  },
  "language_info": {
   "codemirror_mode": {
    "name": "ipython",
    "version": 3
   },
   "file_extension": ".py",
   "mimetype": "text/x-python",
   "name": "python",
   "nbconvert_exporter": "python",
   "pygments_lexer": "ipython3",
   "version": "3.10.12"
  },
  "orig_nbformat": 4
 },
 "nbformat": 4,
 "nbformat_minor": 2
}
