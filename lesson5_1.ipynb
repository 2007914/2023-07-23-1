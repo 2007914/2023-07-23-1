{
 "cells": [
  {
   "cell_type": "code",
   "execution_count": 3,
   "metadata": {},
   "outputs": [
    {
     "name": "stdout",
     "output_type": "stream",
     "text": [
      "你的分數: 200.0\n"
     ]
    }
   ],
   "source": [
    "try:\n",
    "    score=float(input('請輸入分數'))\n",
    "    print('你的分數:',score) \n",
    "except:\n",
    "    print('輸入的格式有問題 ')    "
   ]
  },
  {
   "cell_type": "code",
   "execution_count": 13,
   "metadata": {},
   "outputs": [
    {
     "name": "stdout",
     "output_type": "stream",
     "text": [
      "你的雞雞:你是變性人嗎\n"
     ]
    }
   ],
   "source": [
    "long= eval(input('請輸入你的長度'))\n",
    "if long>=20:\n",
    "    gigi='超出常人'\n",
    "elif long>=15:\n",
    "    gigi='普通長而已'\n",
    "elif long>=10:\n",
    "    gigi='有點太短' \n",
    "elif long>=5:\n",
    "    gigi='牙籤等級'\n",
    "else:\n",
    "    gigi='是假的嗎'\n",
    "print(f'你的雞雞:{gigi}')                "
   ]
  },
  {
   "cell_type": "code",
   "execution_count": 11,
   "metadata": {},
   "outputs": [
    {
     "name": "stdout",
     "output_type": "stream",
     "text": [
      "第1層\n",
      "學生等級是:甲\n"
     ]
    }
   ],
   "source": [
    "if score >= 90:\n",
    "    grade = '優'\n",
    "elif score >= 80:    \n",
    "    grade = '甲'\n",
    "    print(\"第1層\")\n",
    "elif score >= 70:         \n",
    "    grade = '乙'\n",
    "    print(\"第2層\")\n",
    "elif score >= 60:\n",
    "    grade = '丙'\n",
    "    print(\"第3層\")\n",
    "else:\n",
    "    grade = '丁'\n",
    "    print(\"第4層\")\n",
    "\n",
    "print(f\"學生等級是:{grade}\")"
   ]
  },
  {
   "cell_type": "code",
   "execution_count": null,
   "metadata": {},
   "outputs": [],
   "source": [
    "try:\n",
    "    x = int(input(\"請輸入x的整數:\"))\n",
    "    y = int(input(\"請輸入y的整數(y不可以是0):\"))\n",
    "    root = 0\n",
    "    if x >= 0:\n",
    "        root = x ** (1/y)\n",
    "    elif x % 2 == 0:    \n",
    "        root = 0\n",
    "    else:\n",
    "        root = -(-x) ** (1 / y) \n",
    "\n",
    "    print(f\"root={root}\")\n",
    "except:\n",
    "    print(\"格式錯誤\")"
   ]
  },
  {
   "cell_type": "code",
   "execution_count": null,
   "metadata": {},
   "outputs": [],
   "source": [
    "try:\n",
    "    x = int(input(\"請輸入x的整數:\"))    \n",
    "except:\n",
    "    print(\"輸入x的格式錯誤\")\n",
    "else:\n",
    "    try:\n",
    "        y = int(input(\"請輸入y的整數(y不可以是0):\"))\n",
    "        root = 0\n",
    "        if x >= 0:\n",
    "            root = x ** (1/y)\n",
    "        elif x % 2 == 0:    \n",
    "            root = 0\n",
    "        else:\n",
    "            root = -(-x) ** (1 / y) \n",
    "\n",
    "        print(f\"root={root}\")\n",
    "    except:\n",
    "        print(\"輸入y的格式錯誤\")"
   ]
  },
  {
   "cell_type": "code",
   "execution_count": 16,
   "metadata": {},
   "outputs": [
    {
     "name": "stdout",
     "output_type": "stream",
     "text": [
      "實付金額是:98765432.0元\n"
     ]
    }
   ],
   "source": [
    "import math\n",
    "money = int(input(\"請輸入購買金額:\"))\n",
    "pay_money = 0\n",
    "if money < 10000:\n",
    "    pay_money = money\n",
    "elif money < 30000:\n",
    "    pay_money = money * 0.95\n",
    "elif money<50000:\n",
    "     pay_money = money * 0.9\n",
    "elif money<100000:\n",
    "     pay_money = money * 0.85    \n",
    "else :\n",
    "     pay_money = money * 0.8\n",
    "\n",
    "#print(f\"實付金額是:{pay_money:.0f}元\")\n",
    "#print(f\"實付金額是:{int(pay_money)}元\")\n",
    "#print(f\"實付金額是:{round(pay_money)}元\")\n",
    "print(f\"實付金額是:{math.ceil(pay_money):.1f}元\")\n",
    "\n",
    "\n",
    "\n"
   ]
  },
  {
   "cell_type": "code",
   "execution_count": null,
   "metadata": {},
   "outputs": [],
   "source": []
  },
  {
   "cell_type": "code",
   "execution_count": null,
   "metadata": {},
   "outputs": [],
   "source": []
  }
 ],
 "metadata": {
  "kernelspec": {
   "display_name": "Python 3",
   "language": "python",
   "name": "python3"
  },
  "language_info": {
   "codemirror_mode": {
    "name": "ipython",
    "version": 3
   },
   "file_extension": ".py",
   "mimetype": "text/x-python",
   "name": "python",
   "nbconvert_exporter": "python",
   "pygments_lexer": "ipython3",
   "version": "3.10.12"
  },
  "orig_nbformat": 4
 },
 "nbformat": 4,
 "nbformat_minor": 2
}
