{
 "cells": [
  {
   "cell_type": "code",
   "execution_count": 1,
   "metadata": {},
   "outputs": [
    {
     "name": "stdout",
     "output_type": "stream",
     "text": [
      "[32, 59, 65, 98, 45]\n",
      "[25, 45, 98, 69, 37]\n",
      "[58, 45, 68, 25, 35]\n"
     ]
    }
   ],
   "source": [
    "score1=[32,59,65,98,45]\n",
    "score2=[25,45,98,69,37]\n",
    "score3=[58,45,68,25,35]\n",
    "\n",
    "students=[score1,score2,score3]\n",
    "for student in students:\n",
    "    print(student)"
   ]
  },
  {
   "cell_type": "code",
   "execution_count": 7,
   "metadata": {},
   "outputs": [
    {
     "data": {
      "text/plain": [
       "[94, 74, 55, 84, 93]"
      ]
     },
     "execution_count": 7,
     "metadata": {},
     "output_type": "execute_result"
    }
   ],
   "source": [
    "import random\n",
    "score = []\n",
    "for i in range(5):\n",
    "    score.append(random.randint(50,100))\n",
    "score\n",
    "\n"
   ]
  },
  {
   "cell_type": "code",
   "execution_count": 11,
   "metadata": {},
   "outputs": [
    {
     "data": {
      "text/plain": [
       "[91, 57, 62, 52, 59]"
      ]
     },
     "execution_count": 11,
     "metadata": {},
     "output_type": "execute_result"
    }
   ],
   "source": [
    "import random\n",
    "score = [random.randint(50,100) for _ in range(5)]\n",
    "score"
   ]
  },
  {
   "cell_type": "code",
   "execution_count": 35,
   "metadata": {},
   "outputs": [],
   "source": [
    "import random\n",
    "\n",
    "def score(students_num:int) ->list:\n",
    "    students = []\n",
    "    for i in range(students_num):\n",
    "        one_student = [random.randint(50,100) for _ in range(5)]\n",
    "        students.append( one_student )\n",
    "    return students"
   ]
  },
  {
   "cell_type": "code",
   "execution_count": 41,
   "metadata": {},
   "outputs": [
    {
     "data": {
      "text/plain": [
       "[[88, 69, 51, 64, 50],\n",
       " [55, 99, 84, 95, 88],\n",
       " [62, 51, 61, 51, 77],\n",
       " [61, 87, 95, 54, 93],\n",
       " [61, 85, 50, 73, 60],\n",
       " [84, 93, 50, 90, 84],\n",
       " [100, 95, 76, 87, 89],\n",
       " [89, 90, 73, 83, 90],\n",
       " [64, 54, 73, 63, 70],\n",
       " [77, 90, 77, 73, 100],\n",
       " [86, 92, 51, 52, 75],\n",
       " [87, 94, 53, 86, 65],\n",
       " [100, 70, 79, 52, 57],\n",
       " [89, 77, 85, 100, 81],\n",
       " [74, 55, 99, 54, 54],\n",
       " [53, 99, 94, 57, 60],\n",
       " [93, 78, 73, 86, 66],\n",
       " [98, 66, 53, 65, 86],\n",
       " [87, 56, 90, 84, 54],\n",
       " [60, 59, 74, 73, 96]]"
      ]
     },
     "execution_count": 41,
     "metadata": {},
     "output_type": "execute_result"
    }
   ],
   "source": [
    "a = int(input('請輸入提示範圍內的數字'))\n",
    "score(a)\n"
   ]
  },
  {
   "cell_type": "code",
   "execution_count": 43,
   "metadata": {},
   "outputs": [
    {
     "data": {
      "text/plain": [
       "'/workspaces/2023-07-23-1/csv_data/a.csv'"
      ]
     },
     "execution_count": 43,
     "metadata": {},
     "output_type": "execute_result"
    }
   ],
   "source": [
    "import os\n",
    "\n",
    "file_name = input(\"請輸入要存檔的檔案名稱:\")\n",
    "root = os.path.abspath(path=\"./\")\n",
    "filePath = os.path.join(root,'csv_data',f'{file_name}.csv')\n",
    "filePath"
   ]
  },
  {
   "cell_type": "code",
   "execution_count": null,
   "metadata": {},
   "outputs": [],
   "source": []
  },
  {
   "cell_type": "code",
   "execution_count": null,
   "metadata": {},
   "outputs": [],
   "source": []
  }
 ],
 "metadata": {
  "kernelspec": {
   "display_name": "Python 3",
   "language": "python",
   "name": "python3"
  },
  "language_info": {
   "codemirror_mode": {
    "name": "ipython",
    "version": 3
   },
   "file_extension": ".py",
   "mimetype": "text/x-python",
   "name": "python",
   "nbconvert_exporter": "python",
   "pygments_lexer": "ipython3",
   "version": "3.10.12"
  },
  "orig_nbformat": 4
 },
 "nbformat": 4,
 "nbformat_minor": 2
}
