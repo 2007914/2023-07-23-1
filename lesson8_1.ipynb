{
 "cells": [
  {
   "cell_type": "code",
   "execution_count": null,
   "metadata": {},
   "outputs": [],
   "source": []
  },
  {
   "cell_type": "code",
   "execution_count": null,
   "metadata": {},
   "outputs": [],
   "source": []
  },
  {
   "cell_type": "code",
   "execution_count": 3,
   "metadata": {},
   "outputs": [
    {
     "name": "stdout",
     "output_type": "stream",
     "text": [
      "2 + 5 = 7\n"
     ]
    }
   ],
   "source": [
    "def func_sum(a:int|float,b:int|float) -> None:\n",
    "    c = a + b\n",
    "    print(f'{a} + {b} = {c}')\n",
    "    \n"
   ]
  },
  {
   "cell_type": "code",
   "execution_count": 4,
   "metadata": {},
   "outputs": [
    {
     "name": "stdout",
     "output_type": "stream",
     "text": [
      "2 + 5 = 7\n"
     ]
    }
   ],
   "source": [
    "func_sum(2,5)"
   ]
  },
  {
   "cell_type": "code",
   "execution_count": null,
   "metadata": {},
   "outputs": [],
   "source": [
    "def func_sum1(a:int|float,b:int|float) -> int | float:\n",
    "    c = a + b\n",
    "    return c"
   ]
  },
  {
   "cell_type": "code",
   "execution_count": null,
   "metadata": {},
   "outputs": [],
   "source": [
    "n = 10\n",
    "m = 25.5\n",
    "sum = func_sum1(n, m)\n",
    "\n",
    "print(f'{n} + {m} = {sum}')"
   ]
  },
  {
   "cell_type": "code",
   "execution_count": 6,
   "metadata": {},
   "outputs": [],
   "source": [
    "def check_prime(start: int, end: int)-> None:\n",
    "    for i in range(start, end+1):\n",
    "        is_prime = True\n",
    "        if i == 1:\n",
    "            continue\n",
    "        for j in range(2,i):\n",
    "            if i % j == 0:\n",
    "                is_prime = False\n",
    "                break\n",
    "        if is_prime:\n",
    "            print(i, end=' ')\n",
    "    return None\n",
    "    print(\"程式結束\") #不會執行"
   ]
  },
  {
   "cell_type": "code",
   "execution_count": 9,
   "metadata": {},
   "outputs": [
    {
     "name": "stdout",
     "output_type": "stream",
     "text": [
      "2 3 5 7 "
     ]
    }
   ],
   "source": [
    "check_prime(1,end=10)"
   ]
  },
  {
   "cell_type": "code",
   "execution_count": 12,
   "metadata": {},
   "outputs": [
    {
     "name": "stdout",
     "output_type": "stream",
     "text": [
      "ffn is a library that contains many useful functions for those who work in quantitative finance.It stands on the shoulders of giants (Pandas, Numpy, Scipy, etc.)and provides a vast array of utilities,from performance measurement and evaluation to graphing and common data transformations.\n"
     ]
    }
   ],
   "source": [
    "#字串換行連結\n",
    "sentens = 'ffn is a library that contains many useful functions for those who work \\\n",
    "in quantitative finance.\\\n",
    "It stands on the shoulders of giants (Pandas, Numpy, Scipy, etc.)\\\n",
    "and provides a vast array of utilities,\\\n",
    "from performance measurement and evaluation to graphing and common data transformations.'\n",
    "print(sentens)\n"
   ]
  },
  {
   "cell_type": "code",
   "execution_count": 13,
   "metadata": {},
   "outputs": [
    {
     "name": "stdout",
     "output_type": "stream",
     "text": [
      "ffn is a library that contains many useful functions for those who workin quantitative finance.It stands on the shoulders of giants (Pandas, Numpy, Scipy, etc.)and provides a vast array of utilities,from performance measurement and evaluation to graphing and common data transformations.\n"
     ]
    }
   ],
   "source": [
    "sentens = \"\"\n",
    "sentens += 'ffn is a library that contains many useful functions for those who work'\n",
    "sentens += 'in quantitative finance.'\n",
    "sentens += 'It stands on the shoulders of giants (Pandas, Numpy, Scipy, etc.)'\n",
    "sentens += 'and provides a vast array of utilities,'\n",
    "sentens += 'from performance measurement and evaluation to graphing and common data transformations.'\n",
    "print(sentens)"
   ]
  },
  {
   "cell_type": "code",
   "execution_count": null,
   "metadata": {},
   "outputs": [],
   "source": []
  },
  {
   "cell_type": "code",
   "execution_count": null,
   "metadata": {},
   "outputs": [],
   "source": []
  },
  {
   "cell_type": "code",
   "execution_count": null,
   "metadata": {},
   "outputs": [],
   "source": []
  },
  {
   "cell_type": "code",
   "execution_count": null,
   "metadata": {},
   "outputs": [],
   "source": []
  }
 ],
 "metadata": {
  "kernelspec": {
   "display_name": "Python 3",
   "language": "python",
   "name": "python3"
  },
  "language_info": {
   "codemirror_mode": {
    "name": "ipython",
    "version": 3
   },
   "file_extension": ".py",
   "mimetype": "text/x-python",
   "name": "python",
   "nbconvert_exporter": "python",
   "pygments_lexer": "ipython3",
   "version": "3.10.12"
  },
  "orig_nbformat": 4
 },
 "nbformat": 4,
 "nbformat_minor": 2
}
